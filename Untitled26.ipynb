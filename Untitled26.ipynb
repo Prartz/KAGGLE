{
  "nbformat": 4,
  "nbformat_minor": 0,
  "metadata": {
    "colab": {
      "provenance": [],
      "authorship_tag": "ABX9TyPKlg+mJ7/PqVe21Xc0yFjR",
      "include_colab_link": true
    },
    "kernelspec": {
      "name": "python3",
      "display_name": "Python 3"
    },
    "language_info": {
      "name": "python"
    }
  },
  "cells": [
    {
      "cell_type": "markdown",
      "metadata": {
        "id": "view-in-github",
        "colab_type": "text"
      },
      "source": [
        "<a href=\"https://colab.research.google.com/github/Prartz/KAGGLE/blob/main/Untitled26.ipynb\" target=\"_parent\"><img src=\"https://colab.research.google.com/assets/colab-badge.svg\" alt=\"Open In Colab\"/></a>"
      ]
    },
    {
      "cell_type": "code",
      "source": [
        "!pip install -q tensorflow pandas h5py scikit-learn pillow"
      ],
      "metadata": {
        "id": "KlafYGKy8CV7"
      },
      "execution_count": 75,
      "outputs": []
    },
    {
      "cell_type": "code",
      "source": [
        "import numpy as np\n",
        "import pandas as pd\n",
        "import h5py\n",
        "import tensorflow as tf\n",
        "from PIL import Image\n",
        "from io import BytesIO\n",
        "from tensorflow.keras.models import Model\n",
        "from tensorflow.keras.layers import Dense, Conv2D, MaxPooling2D, Flatten, Input, concatenate\n",
        "from tensorflow.keras.applications import EfficientNetB0\n",
        "from tensorflow.keras.callbacks import Callback\n",
        "from sklearn.model_selection import train_test_split\n",
        "from sklearn.preprocessing import StandardScaler\n",
        "from tensorflow.keras.preprocessing.image import ImageDataGenerator"
      ],
      "metadata": {
        "id": "1OsFO20y7Cuj"
      },
      "execution_count": 76,
      "outputs": []
    },
    {
      "cell_type": "code",
      "source": [
        "print(\"Num GPUs Available: \", len(tf.config.experimental.list_physical_devices('GPU')))"
      ],
      "metadata": {
        "colab": {
          "base_uri": "https://localhost:8080/"
        },
        "id": "pRpSkpQf7FX5",
        "outputId": "eb895fe4-32fa-47de-b083-8aae97fe3ee8"
      },
      "execution_count": 78,
      "outputs": [
        {
          "output_type": "stream",
          "name": "stdout",
          "text": [
            "Num GPUs Available:  0\n"
          ]
        }
      ]
    },
    {
      "cell_type": "code",
      "source": [
        "hdf5_path = '/content/test-image.hdf5'\n",
        "with h5py.File(hdf5_path, 'r') as f:\n",
        "    image_keys = list(f.keys())\n",
        "    images = []\n",
        "    for key in image_keys:\n",
        "        image_data = f[key][()]\n",
        "        image = Image.open(BytesIO(image_data))\n",
        "        image = image.resize((224, 224))  # Increased resolution\n",
        "        images.append(np.array(image))\n",
        "    images = np.stack(images, axis=0)"
      ],
      "metadata": {
        "id": "-V5VsY9K7OtB"
      },
      "execution_count": 79,
      "outputs": []
    },
    {
      "cell_type": "code",
      "source": [
        "images = images.astype('float32') / 255.0"
      ],
      "metadata": {
        "id": "RRBweml-8tJZ"
      },
      "execution_count": 80,
      "outputs": []
    },
    {
      "cell_type": "code",
      "source": [
        "metadata_path = '/content/test-metadata.csv'\n",
        "metadata = pd.read_csv(metadata_path)"
      ],
      "metadata": {
        "id": "zHNRTVX58u7p"
      },
      "execution_count": 81,
      "outputs": []
    },
    {
      "cell_type": "code",
      "source": [
        "labels = (metadata['tbp_lv_nevi_confidence'] > 0.5).astype(int).values"
      ],
      "metadata": {
        "id": "FdoyWTGR86fL"
      },
      "execution_count": 82,
      "outputs": []
    },
    {
      "cell_type": "code",
      "source": [
        "numeric_columns = metadata.select_dtypes(include=[np.number]).columns\n",
        "scaler = StandardScaler()\n",
        "metadata_scaled = scaler.fit_transform(metadata[numeric_columns])"
      ],
      "metadata": {
        "id": "HtEIZ_-n9S4e"
      },
      "execution_count": 83,
      "outputs": []
    },
    {
      "cell_type": "code",
      "source": [
        "X_train_img, X_val_img, X_train_meta, X_val_meta, y_train, y_val = train_test_split(\n",
        "    images, metadata_scaled, labels, test_size=0.2, random_state=42\n",
        ")"
      ],
      "metadata": {
        "id": "Fw-HtJhk9U84"
      },
      "execution_count": 84,
      "outputs": []
    },
    {
      "cell_type": "code",
      "source": [
        "input_img = Input(shape=(224, 224, 3))\n",
        "base_model = EfficientNetB0(include_top=False, input_tensor=input_img, weights='imagenet')\n",
        "x = base_model.output\n",
        "x = MaxPooling2D(pool_size=(2, 2))(x)\n",
        "x = Flatten()(x)\n"
      ],
      "metadata": {
        "id": "wj8w0T849YTU"
      },
      "execution_count": 85,
      "outputs": []
    },
    {
      "cell_type": "code",
      "source": [
        "input_meta = Input(shape=(metadata_scaled.shape[1],))\n",
        "y = Dense(64, activation='relu')(input_meta)\n",
        "y = Dense(32, activation='relu')(y)"
      ],
      "metadata": {
        "id": "zUApT3sM9bDY"
      },
      "execution_count": 86,
      "outputs": []
    },
    {
      "cell_type": "code",
      "source": [
        "combined = concatenate([x, y])\n",
        "z = Dense(64, activation='relu')(combined)\n",
        "z = Dense(32, activation='relu')(z)\n",
        "output = Dense(1, activation='sigmoid')(z)"
      ],
      "metadata": {
        "id": "i7ESb7lP9diL"
      },
      "execution_count": 87,
      "outputs": []
    },
    {
      "cell_type": "code",
      "source": [
        "model = Model(inputs=[input_img, input_meta], outputs=output)\n",
        "model.compile(optimizer='adam', loss='binary_crossentropy', metrics=['accuracy', 'AUC'])"
      ],
      "metadata": {
        "id": "US3GALLX9gDV"
      },
      "execution_count": 88,
      "outputs": []
    },
    {
      "cell_type": "code",
      "source": [
        "def preprocess_image(image, augment=False):\n",
        "    if augment:\n",
        "        image = tf.image.random_flip_left_right(image)\n",
        "        image = tf.image.random_flip_up_down(image)\n",
        "        image = tf.image.random_brightness(image, max_delta=0.2)\n",
        "        image = tf.image.random_contrast(image, lower=0.8, upper=1.2)\n",
        "    return image\n",
        "\n",
        "# Define a function to create a tf.data.Dataset\n",
        "def create_dataset(images, metadata, labels, batch_size, augment=False):\n",
        "    def preprocess(image, meta, label):\n",
        "        image = preprocess_image(image, augment)\n",
        "        return (image, meta), label\n",
        "\n",
        "    dataset = tf.data.Dataset.from_tensor_slices((images, metadata, labels))\n",
        "    dataset = dataset.map(lambda img, meta, lbl: preprocess(img, meta, lbl), num_parallel_calls=tf.data.experimental.AUTOTUNE)\n",
        "    dataset = dataset.batch(batch_size)\n",
        "    dataset = dataset.prefetch(tf.data.experimental.AUTOTUNE)\n",
        "    return dataset\n",
        "\n",
        "# Create datasets for training and validation\n",
        "train_dataset = create_dataset(X_train_img, X_train_meta, y_train, batch_size=32, augment=True)\n",
        "val_dataset = create_dataset(X_val_img, X_val_meta, y_val, batch_size=32)\n"
      ],
      "metadata": {
        "id": "qLqJn9fV_ay3"
      },
      "execution_count": 111,
      "outputs": []
    },
    {
      "cell_type": "code",
      "source": [
        "class EfficiencyCallback(tf.keras.callbacks.Callback):\n",
        "    def __init__(self, benchmark_auc):\n",
        "        super().__init__()\n",
        "        self.benchmark_auc = benchmark_auc\n",
        "        self.start_time = None\n",
        "\n",
        "    def on_epoch_begin(self, epoch, logs=None):\n",
        "        self.start_time = tf.timestamp()\n",
        "\n",
        "    def on_epoch_end(self, epoch, logs=None):\n",
        "        runtime_seconds = (tf.timestamp() - self.start_time).numpy()\n",
        "        current_auc = logs.get('val_auc')  # Ensure 'val_auc' is being computed\n",
        "        if current_auc is None:\n",
        "            current_auc = 0.0  # Handle cases where AUC might not be computed\n",
        "\n",
        "        max_auc = 1.0  # Example value; should be replaced with actual max AUC from the leaderboard\n",
        "\n",
        "        # Calculate efficiency score\n",
        "        efficiency_score = (self.benchmark_auc - current_auc) + (runtime_seconds / 43200)\n",
        "        print(f'Efficiency Score: {efficiency_score}')\n",
        "\n",
        "# Example usage\n",
        "benchmark_auc = 0.85  # Replace with the actual benchmark AUC value\n",
        "\n",
        "efficiency_callback = EfficiencyCallback(benchmark_auc=benchmark_auc)\n",
        "\n",
        "history = model.fit(train_dataset,\n",
        "                    epochs=25,\n",
        "                    validation_data=val_dataset,\n",
        "                    callbacks=[efficiency_callback])\n"
      ],
      "metadata": {
        "colab": {
          "base_uri": "https://localhost:8080/"
        },
        "id": "UBMCO0taA9VI",
        "outputId": "4d6f74d0-0376-4e56-d530-30747631c36e"
      },
      "execution_count": 112,
      "outputs": [
        {
          "output_type": "stream",
          "name": "stdout",
          "text": [
            "Epoch 1/25\n",
            "\u001b[1m1/1\u001b[0m \u001b[32m━━━━━━━━━━━━━━━━━━━━\u001b[0m\u001b[37m\u001b[0m \u001b[1m0s\u001b[0m 1s/step - AUC: 0.0000e+00 - accuracy: 1.0000 - loss: 4.4268e-26Efficiency Score: 0.8500362255341477\n",
            "\u001b[1m1/1\u001b[0m \u001b[32m━━━━━━━━━━━━━━━━━━━━\u001b[0m\u001b[37m\u001b[0m \u001b[1m2s\u001b[0m 2s/step - AUC: 0.0000e+00 - accuracy: 1.0000 - loss: 4.4268e-26 - val_AUC: 0.0000e+00 - val_accuracy: 0.0000e+00 - val_loss: 1.0651\n",
            "Epoch 2/25\n",
            "\u001b[1m1/1\u001b[0m \u001b[32m━━━━━━━━━━━━━━━━━━━━\u001b[0m\u001b[37m\u001b[0m \u001b[1m0s\u001b[0m 1s/step - AUC: 0.0000e+00 - accuracy: 1.0000 - loss: 1.1496e-17Efficiency Score: 0.8500358981942688\n",
            "\u001b[1m1/1\u001b[0m \u001b[32m━━━━━━━━━━━━━━━━━━━━\u001b[0m\u001b[37m\u001b[0m \u001b[1m2s\u001b[0m 2s/step - AUC: 0.0000e+00 - accuracy: 1.0000 - loss: 1.1496e-17 - val_AUC: 0.0000e+00 - val_accuracy: 0.0000e+00 - val_loss: 1.0412\n",
            "Epoch 3/25\n",
            "\u001b[1m1/1\u001b[0m \u001b[32m━━━━━━━━━━━━━━━━━━━━\u001b[0m\u001b[37m\u001b[0m \u001b[1m0s\u001b[0m 460ms/step - AUC: 0.0000e+00 - accuracy: 1.0000 - loss: 1.1223e-25Efficiency Score: 0.8500124604392935\n",
            "\u001b[1m1/1\u001b[0m \u001b[32m━━━━━━━━━━━━━━━━━━━━\u001b[0m\u001b[37m\u001b[0m \u001b[1m1s\u001b[0m 539ms/step - AUC: 0.0000e+00 - accuracy: 1.0000 - loss: 1.1223e-25 - val_AUC: 0.0000e+00 - val_accuracy: 0.0000e+00 - val_loss: 1.0207\n",
            "Epoch 4/25\n",
            "\u001b[1m1/1\u001b[0m \u001b[32m━━━━━━━━━━━━━━━━━━━━\u001b[0m\u001b[37m\u001b[0m \u001b[1m0s\u001b[0m 446ms/step - AUC: 0.0000e+00 - accuracy: 1.0000 - loss: 1.4427e-19Efficiency Score: 0.8500121177291429\n",
            "\u001b[1m1/1\u001b[0m \u001b[32m━━━━━━━━━━━━━━━━━━━━\u001b[0m\u001b[37m\u001b[0m \u001b[1m1s\u001b[0m 524ms/step - AUC: 0.0000e+00 - accuracy: 1.0000 - loss: 1.4427e-19 - val_AUC: 0.0000e+00 - val_accuracy: 0.0000e+00 - val_loss: 1.0013\n",
            "Epoch 5/25\n",
            "\u001b[1m1/1\u001b[0m \u001b[32m━━━━━━━━━━━━━━━━━━━━\u001b[0m\u001b[37m\u001b[0m \u001b[1m0s\u001b[0m 454ms/step - AUC: 0.0000e+00 - accuracy: 1.0000 - loss: 2.1839e-34Efficiency Score: 0.850012357753736\n",
            "\u001b[1m1/1\u001b[0m \u001b[32m━━━━━━━━━━━━━━━━━━━━\u001b[0m\u001b[37m\u001b[0m \u001b[1m1s\u001b[0m 534ms/step - AUC: 0.0000e+00 - accuracy: 1.0000 - loss: 2.1839e-34 - val_AUC: 0.0000e+00 - val_accuracy: 0.0000e+00 - val_loss: 0.9791\n",
            "Epoch 6/25\n",
            "\u001b[1m1/1\u001b[0m \u001b[32m━━━━━━━━━━━━━━━━━━━━\u001b[0m\u001b[37m\u001b[0m \u001b[1m0s\u001b[0m 534ms/step - AUC: 0.0000e+00 - accuracy: 1.0000 - loss: 1.5865e-20Efficiency Score: 0.8500141931463171\n",
            "\u001b[1m1/1\u001b[0m \u001b[32m━━━━━━━━━━━━━━━━━━━━\u001b[0m\u001b[37m\u001b[0m \u001b[1m1s\u001b[0m 613ms/step - AUC: 0.0000e+00 - accuracy: 1.0000 - loss: 1.5865e-20 - val_AUC: 0.0000e+00 - val_accuracy: 0.0000e+00 - val_loss: 0.9618\n",
            "Epoch 7/25\n",
            "\u001b[1m1/1\u001b[0m \u001b[32m━━━━━━━━━━━━━━━━━━━━\u001b[0m\u001b[37m\u001b[0m \u001b[1m0s\u001b[0m 460ms/step - AUC: 0.0000e+00 - accuracy: 1.0000 - loss: 2.4212e-20Efficiency Score: 0.8500123278686293\n",
            "\u001b[1m1/1\u001b[0m \u001b[32m━━━━━━━━━━━━━━━━━━━━\u001b[0m\u001b[37m\u001b[0m \u001b[1m1s\u001b[0m 533ms/step - AUC: 0.0000e+00 - accuracy: 1.0000 - loss: 2.4212e-20 - val_AUC: 0.0000e+00 - val_accuracy: 0.0000e+00 - val_loss: 0.9455\n",
            "Epoch 8/25\n",
            "\u001b[1m1/1\u001b[0m \u001b[32m━━━━━━━━━━━━━━━━━━━━\u001b[0m\u001b[37m\u001b[0m \u001b[1m0s\u001b[0m 522ms/step - AUC: 0.0000e+00 - accuracy: 1.0000 - loss: 3.9250e-34Efficiency Score: 0.8500139166911442\n",
            "\u001b[1m1/1\u001b[0m \u001b[32m━━━━━━━━━━━━━━━━━━━━\u001b[0m\u001b[37m\u001b[0m \u001b[1m1s\u001b[0m 602ms/step - AUC: 0.0000e+00 - accuracy: 1.0000 - loss: 3.9250e-34 - val_AUC: 0.0000e+00 - val_accuracy: 0.0000e+00 - val_loss: 0.9304\n",
            "Epoch 9/25\n",
            "\u001b[1m1/1\u001b[0m \u001b[32m━━━━━━━━━━━━━━━━━━━━\u001b[0m\u001b[37m\u001b[0m \u001b[1m0s\u001b[0m 468ms/step - AUC: 0.0000e+00 - accuracy: 1.0000 - loss: 1.8289e-25Efficiency Score: 0.8500126386075108\n",
            "\u001b[1m1/1\u001b[0m \u001b[32m━━━━━━━━━━━━━━━━━━━━\u001b[0m\u001b[37m\u001b[0m \u001b[1m1s\u001b[0m 547ms/step - AUC: 0.0000e+00 - accuracy: 1.0000 - loss: 1.8289e-25 - val_AUC: 0.0000e+00 - val_accuracy: 0.0000e+00 - val_loss: 0.9148\n",
            "Epoch 10/25\n",
            "\u001b[1m1/1\u001b[0m \u001b[32m━━━━━━━━━━━━━━━━━━━━\u001b[0m\u001b[37m\u001b[0m \u001b[1m0s\u001b[0m 453ms/step - AUC: 0.0000e+00 - accuracy: 1.0000 - loss: 2.8038e-21Efficiency Score: 0.8500121805568536\n",
            "\u001b[1m1/1\u001b[0m \u001b[32m━━━━━━━━━━━━━━━━━━━━\u001b[0m\u001b[37m\u001b[0m \u001b[1m1s\u001b[0m 527ms/step - AUC: 0.0000e+00 - accuracy: 1.0000 - loss: 2.8038e-21 - val_AUC: 0.0000e+00 - val_accuracy: 0.0000e+00 - val_loss: 0.9038\n",
            "Epoch 11/25\n",
            "\u001b[1m1/1\u001b[0m \u001b[32m━━━━━━━━━━━━━━━━━━━━\u001b[0m\u001b[37m\u001b[0m \u001b[1m0s\u001b[0m 475ms/step - AUC: 0.0000e+00 - accuracy: 1.0000 - loss: 7.9180e-34Efficiency Score: 0.8500126849997927\n",
            "\u001b[1m1/1\u001b[0m \u001b[32m━━━━━━━━━━━━━━━━━━━━\u001b[0m\u001b[37m\u001b[0m \u001b[1m1s\u001b[0m 548ms/step - AUC: 0.0000e+00 - accuracy: 1.0000 - loss: 7.9180e-34 - val_AUC: 0.0000e+00 - val_accuracy: 0.0000e+00 - val_loss: 0.9200\n",
            "Epoch 12/25\n",
            "\u001b[1m1/1\u001b[0m \u001b[32m━━━━━━━━━━━━━━━━━━━━\u001b[0m\u001b[37m\u001b[0m \u001b[1m0s\u001b[0m 452ms/step - AUC: 0.0000e+00 - accuracy: 1.0000 - loss: 3.7770e-31Efficiency Score: 0.8500124124741113\n",
            "\u001b[1m1/1\u001b[0m \u001b[32m━━━━━━━━━━━━━━━━━━━━\u001b[0m\u001b[37m\u001b[0m \u001b[1m1s\u001b[0m 537ms/step - AUC: 0.0000e+00 - accuracy: 1.0000 - loss: 3.7770e-31 - val_AUC: 0.0000e+00 - val_accuracy: 0.0000e+00 - val_loss: 1.0247\n",
            "Epoch 13/25\n",
            "\u001b[1m1/1\u001b[0m \u001b[32m━━━━━━━━━━━━━━━━━━━━\u001b[0m\u001b[37m\u001b[0m \u001b[1m0s\u001b[0m 456ms/step - AUC: 0.0000e+00 - accuracy: 1.0000 - loss: 2.1665e-18Efficiency Score: 0.8500123798184924\n",
            "\u001b[1m1/1\u001b[0m \u001b[32m━━━━━━━━━━━━━━━━━━━━\u001b[0m\u001b[37m\u001b[0m \u001b[1m1s\u001b[0m 535ms/step - AUC: 0.0000e+00 - accuracy: 1.0000 - loss: 2.1665e-18 - val_AUC: 0.0000e+00 - val_accuracy: 0.0000e+00 - val_loss: 1.0895\n",
            "Epoch 14/25\n",
            "\u001b[1m1/1\u001b[0m \u001b[32m━━━━━━━━━━━━━━━━━━━━\u001b[0m\u001b[37m\u001b[0m \u001b[1m0s\u001b[0m 551ms/step - AUC: 0.0000e+00 - accuracy: 1.0000 - loss: 6.0586e-22Efficiency Score: 0.8500145532190799\n",
            "\u001b[1m1/1\u001b[0m \u001b[32m━━━━━━━━━━━━━━━━━━━━\u001b[0m\u001b[37m\u001b[0m \u001b[1m1s\u001b[0m 629ms/step - AUC: 0.0000e+00 - accuracy: 1.0000 - loss: 6.0586e-22 - val_AUC: 0.0000e+00 - val_accuracy: 0.0000e+00 - val_loss: 1.0562\n",
            "Epoch 15/25\n",
            "\u001b[1m1/1\u001b[0m \u001b[32m━━━━━━━━━━━━━━━━━━━━\u001b[0m\u001b[37m\u001b[0m \u001b[1m0s\u001b[0m 449ms/step - AUC: 0.0000e+00 - accuracy: 1.0000 - loss: 3.6399e-24Efficiency Score: 0.8500120756250841\n",
            "\u001b[1m1/1\u001b[0m \u001b[32m━━━━━━━━━━━━━━━━━━━━\u001b[0m\u001b[37m\u001b[0m \u001b[1m1s\u001b[0m 523ms/step - AUC: 0.0000e+00 - accuracy: 1.0000 - loss: 3.6399e-24 - val_AUC: 0.0000e+00 - val_accuracy: 0.0000e+00 - val_loss: 1.0111\n",
            "Epoch 16/25\n",
            "\u001b[1m1/1\u001b[0m \u001b[32m━━━━━━━━━━━━━━━━━━━━\u001b[0m\u001b[37m\u001b[0m \u001b[1m0s\u001b[0m 465ms/step - AUC: 0.0000e+00 - accuracy: 1.0000 - loss: 1.3280e-25Efficiency Score: 0.8500125374562211\n",
            "\u001b[1m1/1\u001b[0m \u001b[32m━━━━━━━━━━━━━━━━━━━━\u001b[0m\u001b[37m\u001b[0m \u001b[1m1s\u001b[0m 542ms/step - AUC: 0.0000e+00 - accuracy: 1.0000 - loss: 1.3280e-25 - val_AUC: 0.0000e+00 - val_accuracy: 0.0000e+00 - val_loss: 1.0167\n",
            "Epoch 17/25\n",
            "\u001b[1m1/1\u001b[0m \u001b[32m━━━━━━━━━━━━━━━━━━━━\u001b[0m\u001b[37m\u001b[0m \u001b[1m0s\u001b[0m 468ms/step - AUC: 0.0000e+00 - accuracy: 1.0000 - loss: 4.8373e-26Efficiency Score: 0.8500145243053083\n",
            "\u001b[1m1/1\u001b[0m \u001b[32m━━━━━━━━━━━━━━━━━━━━\u001b[0m\u001b[37m\u001b[0m \u001b[1m1s\u001b[0m 628ms/step - AUC: 0.0000e+00 - accuracy: 1.0000 - loss: 4.8373e-26 - val_AUC: 0.0000e+00 - val_accuracy: 0.0000e+00 - val_loss: 1.1212\n",
            "Epoch 18/25\n",
            "\u001b[1m1/1\u001b[0m \u001b[32m━━━━━━━━━━━━━━━━━━━━\u001b[0m\u001b[37m\u001b[0m \u001b[1m0s\u001b[0m 1s/step - AUC: 0.0000e+00 - accuracy: 1.0000 - loss: 1.5806e-22Efficiency Score: 0.8500365771739571\n",
            "\u001b[1m1/1\u001b[0m \u001b[32m━━━━━━━━━━━━━━━━━━━━\u001b[0m\u001b[37m\u001b[0m \u001b[1m2s\u001b[0m 2s/step - AUC: 0.0000e+00 - accuracy: 1.0000 - loss: 1.5806e-22 - val_AUC: 0.0000e+00 - val_accuracy: 0.0000e+00 - val_loss: 1.2166\n",
            "Epoch 19/25\n",
            "\u001b[1m1/1\u001b[0m \u001b[32m━━━━━━━━━━━━━━━━━━━━\u001b[0m\u001b[37m\u001b[0m \u001b[1m0s\u001b[0m 720ms/step - AUC: 0.0000e+00 - accuracy: 1.0000 - loss: 2.9851e-21Efficiency Score: 0.850019397708001\n",
            "\u001b[1m1/1\u001b[0m \u001b[32m━━━━━━━━━━━━━━━━━━━━\u001b[0m\u001b[37m\u001b[0m \u001b[1m1s\u001b[0m 839ms/step - AUC: 0.0000e+00 - accuracy: 1.0000 - loss: 2.9851e-21 - val_AUC: 0.0000e+00 - val_accuracy: 0.0000e+00 - val_loss: 1.2742\n",
            "Epoch 20/25\n",
            "\u001b[1m1/1\u001b[0m \u001b[32m━━━━━━━━━━━━━━━━━━━━\u001b[0m\u001b[37m\u001b[0m \u001b[1m0s\u001b[0m 928ms/step - AUC: 0.0000e+00 - accuracy: 1.0000 - loss: 1.8879e-30Efficiency Score: 0.8500232120851675\n",
            "\u001b[1m1/1\u001b[0m \u001b[32m━━━━━━━━━━━━━━━━━━━━\u001b[0m\u001b[37m\u001b[0m \u001b[1m1s\u001b[0m 1s/step - AUC: 0.0000e+00 - accuracy: 1.0000 - loss: 1.8879e-30 - val_AUC: 0.0000e+00 - val_accuracy: 0.0000e+00 - val_loss: 1.2952\n",
            "Epoch 21/25\n",
            "\u001b[1m1/1\u001b[0m \u001b[32m━━━━━━━━━━━━━━━━━━━━\u001b[0m\u001b[37m\u001b[0m \u001b[1m0s\u001b[0m 516ms/step - AUC: 0.0000e+00 - accuracy: 1.0000 - loss: 5.4157e-27Efficiency Score: 0.8500137887067265\n",
            "\u001b[1m1/1\u001b[0m \u001b[32m━━━━━━━━━━━━━━━━━━━━\u001b[0m\u001b[37m\u001b[0m \u001b[1m1s\u001b[0m 596ms/step - AUC: 0.0000e+00 - accuracy: 1.0000 - loss: 5.4157e-27 - val_AUC: 0.0000e+00 - val_accuracy: 0.0000e+00 - val_loss: 1.3127\n",
            "Epoch 22/25\n",
            "\u001b[1m1/1\u001b[0m \u001b[32m━━━━━━━━━━━━━━━━━━━━\u001b[0m\u001b[37m\u001b[0m \u001b[1m0s\u001b[0m 462ms/step - AUC: 0.0000e+00 - accuracy: 1.0000 - loss: 1.7085e-21Efficiency Score: 0.8500124882658322\n",
            "\u001b[1m1/1\u001b[0m \u001b[32m━━━━━━━━━━━━━━━━━━━━\u001b[0m\u001b[37m\u001b[0m \u001b[1m1s\u001b[0m 540ms/step - AUC: 0.0000e+00 - accuracy: 1.0000 - loss: 1.7085e-21 - val_AUC: 0.0000e+00 - val_accuracy: 0.0000e+00 - val_loss: 1.3267\n",
            "Epoch 23/25\n",
            "\u001b[1m1/1\u001b[0m \u001b[32m━━━━━━━━━━━━━━━━━━━━\u001b[0m\u001b[37m\u001b[0m \u001b[1m0s\u001b[0m 448ms/step - AUC: 0.0000e+00 - accuracy: 1.0000 - loss: 1.5580e-34Efficiency Score: 0.8500121906951621\n",
            "\u001b[1m1/1\u001b[0m \u001b[32m━━━━━━━━━━━━━━━━━━━━\u001b[0m\u001b[37m\u001b[0m \u001b[1m1s\u001b[0m 528ms/step - AUC: 0.0000e+00 - accuracy: 1.0000 - loss: 1.5580e-34 - val_AUC: 0.0000e+00 - val_accuracy: 0.0000e+00 - val_loss: 1.3372\n",
            "Epoch 24/25\n",
            "\u001b[1m1/1\u001b[0m \u001b[32m━━━━━━━━━━━━━━━━━━━━\u001b[0m\u001b[37m\u001b[0m \u001b[1m0s\u001b[0m 550ms/step - AUC: 0.0000e+00 - accuracy: 1.0000 - loss: 1.2373e-27Efficiency Score: 0.8500143724072863\n",
            "\u001b[1m1/1\u001b[0m \u001b[32m━━━━━━━━━━━━━━━━━━━━\u001b[0m\u001b[37m\u001b[0m \u001b[1m1s\u001b[0m 622ms/step - AUC: 0.0000e+00 - accuracy: 1.0000 - loss: 1.2373e-27 - val_AUC: 0.0000e+00 - val_accuracy: 0.0000e+00 - val_loss: 1.3288\n",
            "Epoch 25/25\n",
            "\u001b[1m1/1\u001b[0m \u001b[32m━━━━━━━━━━━━━━━━━━━━\u001b[0m\u001b[37m\u001b[0m \u001b[1m0s\u001b[0m 440ms/step - AUC: 0.0000e+00 - accuracy: 1.0000 - loss: 3.3916e-21Efficiency Score: 0.850011870485765\n",
            "\u001b[1m1/1\u001b[0m \u001b[32m━━━━━━━━━━━━━━━━━━━━\u001b[0m\u001b[37m\u001b[0m \u001b[1m1s\u001b[0m 514ms/step - AUC: 0.0000e+00 - accuracy: 1.0000 - loss: 3.3916e-21 - val_AUC: 0.0000e+00 - val_accuracy: 0.0000e+00 - val_loss: 1.3073\n"
          ]
        }
      ]
    },
    {
      "cell_type": "code",
      "source": [
        "model.save('/content/skin_cancer_detection_efficient_model.h5')\n"
      ],
      "metadata": {
        "colab": {
          "base_uri": "https://localhost:8080/"
        },
        "id": "RPcSM9u1_zdi",
        "outputId": "6fd4ed58-0976-471f-cfaf-ddfc1e9d99f6"
      },
      "execution_count": 113,
      "outputs": [
        {
          "output_type": "stream",
          "name": "stderr",
          "text": [
            "WARNING:absl:You are saving your model as an HDF5 file via `model.save()` or `keras.saving.save_model(model)`. This file format is considered legacy. We recommend using instead the native Keras format, e.g. `model.save('my_model.keras')` or `keras.saving.save_model(model, 'my_model.keras')`. \n"
          ]
        }
      ]
    },
    {
      "cell_type": "code",
      "source": [
        "predictions = model.predict([X_val_img, X_val_meta])\n",
        "ranked_indices = np.argsort(predictions, axis=0)[-15:]  # Top-15 predictions\n",
        "top_15_predictions = predictions[ranked_indices]\n"
      ],
      "metadata": {
        "colab": {
          "base_uri": "https://localhost:8080/"
        },
        "id": "qTgVS36mAf6a",
        "outputId": "3058152a-eb3e-46db-a449-911e2ed5bdc8"
      },
      "execution_count": 114,
      "outputs": [
        {
          "output_type": "stream",
          "name": "stdout",
          "text": [
            "\u001b[1m1/1\u001b[0m \u001b[32m━━━━━━━━━━━━━━━━━━━━\u001b[0m\u001b[37m\u001b[0m \u001b[1m0s\u001b[0m 119ms/step\n"
          ]
        }
      ]
    }
  ]
}